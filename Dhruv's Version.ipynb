{
 "cells": [
  {
   "cell_type": "code",
   "execution_count": null,
   "id": "b8bfd0c5",
   "metadata": {},
   "outputs": [],
   "source": [
    "import pandas as pd\n",
    "import numpy as np\n",
    "from sklearn import preprocessing\n",
    "from sklearn.model_selection import train_test_split\n",
    "from sklearn.linear_model import LogisticRegression\n",
    "from sklearn.tree import DecisionTreeClassifier, export_graphviz\n",
    "from sklearn.neighbors import KNeighborsClassifier\n",
    "from sklearn.svm import SVC\n",
    "from sklearn.metrics import confusion_matrix\n",
    "import matplotlib.pyplot as plt\n",
    "from sklearn.metrics import classification_report, plot_confusion_matrix\n",
    "from sklearn.model_selection import GridSearchCV"
   ]
  },
  {
   "cell_type": "code",
   "execution_count": null,
   "id": "02e293af",
   "metadata": {},
   "outputs": [],
   "source": [
    "temp_df = pd.read_csv('dataset.csv')\n",
    "temp_df.head()"
   ]
  },
  {
   "cell_type": "code",
   "execution_count": null,
   "id": "1fb16170",
   "metadata": {},
   "outputs": [],
   "source": [
    "temp_df.dtypes"
   ]
  },
  {
   "cell_type": "code",
   "execution_count": null,
   "id": "2fee10b2",
   "metadata": {
    "scrolled": false
   },
   "outputs": [],
   "source": [
    "#cheking NULL Values\n",
    "temp_df.isnull().sum()"
   ]
  },
  {
   "cell_type": "code",
   "execution_count": null,
   "id": "48087823",
   "metadata": {},
   "outputs": [],
   "source": [
    "temp_df.Target.unique()"
   ]
  },
  {
   "cell_type": "code",
   "execution_count": null,
   "id": "50ac9e08",
   "metadata": {},
   "outputs": [],
   "source": [
    "temp_df.drop(temp_df[temp_df[\"Target\"]==\"Enrolled\"].index,inplace=True)"
   ]
  },
  {
   "cell_type": "code",
   "execution_count": null,
   "id": "32c04d44",
   "metadata": {},
   "outputs": [],
   "source": [
    "#String to Int for the output\n",
    "# Enrolled - 1, Graduate - 2, Dropout - 3\n",
    "\n",
    "def f(s):\n",
    "    if s == 'Graduate':\n",
    "        return 1;\n",
    "    if s == 'Dropout':\n",
    "        return 2;\n",
    "    \n",
    "temp_df.Target = temp_df.Target.apply(f)\n",
    "temp_df.head()"
   ]
  },
  {
   "cell_type": "code",
   "execution_count": null,
   "id": "82268077",
   "metadata": {},
   "outputs": [],
   "source": [
    "temp_df.shape"
   ]
  },
  {
   "cell_type": "code",
   "execution_count": null,
   "id": "ffb8017f",
   "metadata": {},
   "outputs": [],
   "source": [
    "X = temp_df.iloc[:,0:34]\n",
    "Y = temp_df.iloc[:,34]"
   ]
  },
  {
   "cell_type": "code",
   "execution_count": null,
   "id": "f72c3704",
   "metadata": {
    "scrolled": true
   },
   "outputs": [],
   "source": [
    "X.shape, Y.shape"
   ]
  },
  {
   "cell_type": "code",
   "execution_count": null,
   "id": "7ed2a04c",
   "metadata": {},
   "outputs": [],
   "source": [
    "X_train, X_test, Y_train, Y_test= train_test_split(X,Y,random_state=1)\n",
    "X_train.shape, X_test.shape, Y_train.shape, Y_test.shape"
   ]
  },
  {
   "cell_type": "code",
   "execution_count": null,
   "id": "38a1569c",
   "metadata": {
    "scrolled": true
   },
   "outputs": [],
   "source": [
    "#Logistic Regression\n",
    "logistic_regression = LogisticRegression(max_iter=1000000)\n",
    "logistic_regression.fit(X_train,Y_train)\n",
    "logistic_regression_train_prediction = logistic_regression.predict(X_train)\n",
    "logistic_regression_test_prediction = logistic_regression.predict(X_test)\n",
    "confusion_matrix(Y_train, logistic_regression_train_prediction), confusion_matrix(Y_test, logistic_regression_test_prediction)"
   ]
  },
  {
   "cell_type": "code",
   "execution_count": null,
   "id": "b8e32f4b",
   "metadata": {
    "scrolled": true
   },
   "outputs": [],
   "source": [
    "color = 'white'\n",
    "matrix = plot_confusion_matrix(logistic_regression, X_test, Y_test, cmap=plt.cm.Blues)\n",
    "matrix.ax_.set_title('Confusion Matrix', color=color)\n",
    "plt.xlabel('Predicted Label', color=color)\n",
    "plt.ylabel('True Label', color=color)\n",
    "plt.gcf().axes[0].tick_params(colors=color)\n",
    "plt.gcf().axes[1].tick_params(colors=color)\n",
    "plt.show()\n",
    "print(classification_report(Y_test, logistic_regression_test_prediction))"
   ]
  },
  {
   "cell_type": "code",
   "execution_count": null,
   "id": "ed3b0db9",
   "metadata": {
    "scrolled": true
   },
   "outputs": [],
   "source": [
    "grid_logistic_regression = LogisticRegression(C=2, max_iter=500, solver='saga')\n",
    "grid_logistic_regression.fit(X_train,Y_train)\n",
    "grid_logistic_regression_train_prediction = grid_logistic_regression.predict(X_train)\n",
    "grid_logistic_regression_test_prediction = grid_logistic_regression.predict(X_test)\n",
    "confusion_matrix(Y_train, grid_logistic_regression_train_prediction), confusion_matrix(Y_test, grid_logistic_regression_test_prediction)"
   ]
  },
  {
   "cell_type": "code",
   "execution_count": null,
   "id": "3d0148ae",
   "metadata": {},
   "outputs": [],
   "source": [
    "color = 'white'\n",
    "matrix = plot_confusion_matrix(grid_logistic_regression, X_test, Y_test, cmap=plt.cm.Blues)\n",
    "matrix.ax_.set_title('Confusion Matrix', color=color)\n",
    "plt.xlabel('Predicted Label', color=color)\n",
    "plt.ylabel('True Label', color=color)\n",
    "plt.gcf().axes[0].tick_params(colors=color)\n",
    "plt.gcf().axes[1].tick_params(colors=color)\n",
    "plt.show()\n",
    "print(classification_report(Y_test, grid_logistic_regression_test_prediction))"
   ]
  },
  {
   "cell_type": "code",
   "execution_count": null,
   "id": "cd302408",
   "metadata": {
    "scrolled": true
   },
   "outputs": [],
   "source": [
    "#Decision Tree\n",
    "decision_tree = DecisionTreeClassifier()\n",
    "decision_tree.fit(X_train,Y_train)\n",
    "decision_tree_train_prediction = decision_tree.predict(X_train)\n",
    "decision_tree_test_prediction = decision_tree.predict(X_test)\n",
    "confusion_matrix(Y_train, decision_tree_train_prediction), confusion_matrix(Y_test, decision_tree_test_prediction)"
   ]
  },
  {
   "cell_type": "code",
   "execution_count": null,
   "id": "2608d6ee",
   "metadata": {},
   "outputs": [],
   "source": [
    "color = 'white'\n",
    "matrix = plot_confusion_matrix(decision_tree, X_test, Y_test, cmap=plt.cm.Blues)\n",
    "matrix.ax_.set_title('Confusion Matrix', color=color)\n",
    "plt.xlabel('Predicted Label', color=color)\n",
    "plt.ylabel('True Label', color=color)\n",
    "plt.gcf().axes[0].tick_params(colors=color)\n",
    "plt.gcf().axes[1].tick_params(colors=color)\n",
    "plt.show()\n",
    "print(classification_report(Y_test, decision_tree_test_prediction))"
   ]
  },
  {
   "cell_type": "code",
   "execution_count": null,
   "id": "771d0747",
   "metadata": {
    "scrolled": true
   },
   "outputs": [],
   "source": [
    "grid_decision_tree = DecisionTreeClassifier(max_depth=5, random_state=1024)\n",
    "grid_decision_tree.fit(X_train,Y_train)\n",
    "grid_decision_tree_train_prediction = grid_decision_tree.predict(X_train)\n",
    "grid_decision_tree_test_prediction = grid_decision_tree.predict(X_test)\n",
    "confusion_matrix(Y_train, grid_decision_tree_train_prediction), confusion_matrix(Y_test, grid_decision_tree_test_prediction)"
   ]
  },
  {
   "cell_type": "code",
   "execution_count": null,
   "id": "8a6964f0",
   "metadata": {},
   "outputs": [],
   "source": [
    "color = 'white'\n",
    "matrix = plot_confusion_matrix(grid_decision_tree, X_test, Y_test, cmap=plt.cm.Blues)\n",
    "matrix.ax_.set_title('Confusion Matrix', color=color)\n",
    "plt.xlabel('Predicted Label', color=color)\n",
    "plt.ylabel('True Label', color=color)\n",
    "plt.gcf().axes[0].tick_params(colors=color)\n",
    "plt.gcf().axes[1].tick_params(colors=color)\n",
    "plt.show()\n",
    "print(classification_report(Y_test, grid_decision_tree_test_prediction))"
   ]
  },
  {
   "cell_type": "code",
   "execution_count": null,
   "id": "562d033d",
   "metadata": {},
   "outputs": [],
   "source": [
    "feature_names_arr = ['Marital status', 'Application mode', 'Application order',\n",
    "       'Course', 'Daytime/evening attendance', 'Previous qualification',\n",
    "       'Nationality', \"Mother's qualification\", \"Father's qualification\",\n",
    "       \"Mother's occupation\", \"Father's occupation\", 'Displaced',\n",
    "       'Educational special needs', 'Debtor', 'Tuition fees up to date',\n",
    "       'Gender', 'Scholarship holder', 'Age at enrollment',\n",
    "       'International', 'Curricular units 1st sem (credited)',\n",
    "       'Curricular units 1st sem (enrolled)',\n",
    "       'Curricular units 1st sem (evaluations)',\n",
    "       'Curricular units 1st sem (approved)',\n",
    "       'Curricular units 1st sem (grade)',\n",
    "       'Curricular units 1st sem (without evaluations)',\n",
    "       'Curricular units 2nd sem (credited)',\n",
    "       'Curricular units 2nd sem (enrolled)',\n",
    "       'Curricular units 2nd sem (evaluations)',\n",
    "       'Curricular units 2nd sem (approved)',\n",
    "       'Curricular units 2nd sem (grade)',\n",
    "       'Curricular units 2nd sem (without evaluations)',\n",
    "       'Unemployment rate', 'Inflation rate', 'GDP']"
   ]
  },
  {
   "cell_type": "code",
   "execution_count": null,
   "id": "f5e507a5",
   "metadata": {},
   "outputs": [],
   "source": [
    "import pydotplus\n",
    "dot_data = export_graphviz(decision_tree, out_file=None, feature_names=feature_names_arr, class_names=['Dropout', 'Graduate', 'Enrolled'])\n",
    "graph = pydotplus.graph_from_dot_data(dot_data) # pydotplus return graph object of .dot file\n",
    "graph.write_pdf('data_vis.pdf')    "
   ]
  },
  {
   "cell_type": "code",
   "execution_count": null,
   "id": "01cb123e",
   "metadata": {
    "scrolled": true
   },
   "outputs": [],
   "source": [
    "#KNN\n",
    "knn_classifier = KNeighborsClassifier()\n",
    "knn_classifier.fit(X_train,Y_train)\n",
    "knn_classifier_train_prediction = knn_classifier.predict(X_train)\n",
    "knn_classifier_test_prediction = knn_classifier.predict(X_test)\n",
    "confusion_matrix(Y_train, knn_classifier_train_prediction), confusion_matrix(Y_test, knn_classifier_test_prediction)"
   ]
  },
  {
   "cell_type": "code",
   "execution_count": null,
   "id": "065f880c",
   "metadata": {
    "scrolled": true
   },
   "outputs": [],
   "source": [
    "color = 'white'\n",
    "matrix = plot_confusion_matrix(knn_classifier, X_test, Y_test, cmap=plt.cm.Blues)\n",
    "matrix.ax_.set_title('Confusion Matrix', color=color)\n",
    "plt.xlabel('Predicted Label', color=color)\n",
    "plt.ylabel('True Label', color=color)\n",
    "plt.gcf().axes[0].tick_params(colors=color)\n",
    "plt.gcf().axes[1].tick_params(colors=color)\n",
    "plt.show()\n",
    "print(classification_report(Y_test, knn_classifier_test_prediction))"
   ]
  },
  {
   "cell_type": "code",
   "execution_count": null,
   "id": "6effc6c1",
   "metadata": {},
   "outputs": [],
   "source": [
    "#Support Vector Classifier\n",
    "svm_classifier = SVC()\n",
    "svm_classifier.fit(X_train,Y_train)\n",
    "svm_classifier_train_prediction = svm_classifier.predict(X_train)\n",
    "svm_classifier_test_prediction = svm_classifier.predict(X_test)\n",
    "confusion_matrix(Y_train, svm_classifier_train_prediction), confusion_matrix(Y_test, svm_classifier_test_prediction)"
   ]
  },
  {
   "cell_type": "code",
   "execution_count": null,
   "id": "6e030485",
   "metadata": {},
   "outputs": [],
   "source": [
    "color = 'white'\n",
    "matrix = plot_confusion_matrix(svm_classifier, X_test, Y_test, cmap=plt.cm.Blues)\n",
    "matrix.ax_.set_title('Confusion Matrix', color=color)\n",
    "plt.xlabel('Predicted Label', color=color)\n",
    "plt.ylabel('True Label', color=color)\n",
    "plt.gcf().axes[0].tick_params(colors=color)\n",
    "plt.gcf().axes[1].tick_params(colors=color)\n",
    "plt.show()\n",
    "print(classification_report(Y_test, svm_classifier_test_prediction))"
   ]
  },
  {
   "cell_type": "code",
   "execution_count": null,
   "id": "992308bd",
   "metadata": {},
   "outputs": [],
   "source": [
    "#Grid Search Result\n",
    "grid_svm_classifier = SVC(C=100, gamma=0.0001)\n",
    "grid_svm_classifier.fit(X_train,Y_train)\n",
    "grid_svm_classifier_train_prediction = grid_svm_classifier.predict(X_train)\n",
    "grid_svm_classifier_test_prediction = grid_svm_classifier.predict(X_test)\n",
    "confusion_matrix(Y_train, grid_svm_classifier_train_prediction), confusion_matrix(Y_test, grid_svm_classifier_test_prediction)"
   ]
  },
  {
   "cell_type": "code",
   "execution_count": null,
   "id": "b049dc65",
   "metadata": {},
   "outputs": [],
   "source": [
    "color = 'white'\n",
    "matrix = plot_confusion_matrix(grid_svm_classifier, X_test, Y_test, cmap=plt.cm.Blues)\n",
    "matrix.ax_.set_title('Confusion Matrix', color=color)\n",
    "plt.xlabel('Predicted Label', color=color)\n",
    "plt.ylabel('True Label', color=color)\n",
    "plt.gcf().axes[0].tick_params(colors=color)\n",
    "plt.gcf().axes[1].tick_params(colors=color)\n",
    "plt.show()\n",
    "print(classification_report(Y_test, grid_svm_classifier_test_prediction))"
   ]
  },
  {
   "cell_type": "code",
   "execution_count": null,
   "id": "15e57eb4",
   "metadata": {
    "scrolled": true
   },
   "outputs": [],
   "source": [
    "#Grid Search\n",
    "clf = LogisticRegression()\n",
    "grid = {'C' : [1,2,3,4,5] , 'solver' : ['newton-cg', 'lbfgs', 'liblinear', 'sag', 'saga'] , 'max_iter' : [100,300,500,700]}\n",
    "abc = GridSearchCV(clf, grid)\n",
    "abc.fit(X_train, Y_train)"
   ]
  },
  {
   "cell_type": "code",
   "execution_count": null,
   "id": "dec38f17",
   "metadata": {},
   "outputs": [],
   "source": [
    "abc.best_estimator_"
   ]
  },
  {
   "cell_type": "code",
   "execution_count": null,
   "id": "5b91fb72",
   "metadata": {},
   "outputs": [],
   "source": [
    "param_grid = {'C': [0.1, 1, 10, 100, 1000], \n",
    "              'gamma': [1, 0.1, 0.01, 0.001, 0.0001],\n",
    "              'kernel': ['rbf']} \n",
    "  \n",
    "grid = GridSearchCV(SVC(), param_grid, refit = True, verbose = 3)\n",
    "grid.fit(X_train, Y_train)"
   ]
  },
  {
   "cell_type": "code",
   "execution_count": null,
   "id": "0616ad30",
   "metadata": {},
   "outputs": [],
   "source": [
    "grid.best_estimator_"
   ]
  },
  {
   "cell_type": "code",
   "execution_count": null,
   "id": "da6f1ba5",
   "metadata": {
    "scrolled": true
   },
   "outputs": [],
   "source": [
    "grid_search_logistic_regression_train_prediction = abc.predict(X_train)\n",
    "grid_search_logistic_regression_test_prediction = abc.predict(X_test)\n",
    "confusion_matrix(Y_train, grid_search_logistic_regression_train_prediction), confusion_matrix(Y_test, grid_search_logistic_regression_test_prediction)"
   ]
  },
  {
   "cell_type": "code",
   "execution_count": null,
   "id": "33540f97",
   "metadata": {},
   "outputs": [],
   "source": [
    "param_grid = {'criterion':['gini','entropy'],'max_depth':[4,5,6,7,8,9,10,11,12,15,20,30,40,50,70,90,120,150]}\n",
    "tree_clas = DecisionTreeClassifier(random_state=1024)\n",
    "grid_search = GridSearchCV(estimator=tree_clas, param_grid=param_grid, cv=5, verbose=True)\n",
    "grid_search.fit(X_train, Y_train)"
   ]
  },
  {
   "cell_type": "code",
   "execution_count": null,
   "id": "128db661",
   "metadata": {},
   "outputs": [],
   "source": [
    "grid_search.best_estimator_"
   ]
  }
 ],
 "metadata": {
  "kernelspec": {
   "display_name": "Python 3 (ipykernel)",
   "language": "python",
   "name": "python3"
  },
  "language_info": {
   "codemirror_mode": {
    "name": "ipython",
    "version": 3
   },
   "file_extension": ".py",
   "mimetype": "text/x-python",
   "name": "python",
   "nbconvert_exporter": "python",
   "pygments_lexer": "ipython3",
   "version": "3.9.13"
  }
 },
 "nbformat": 4,
 "nbformat_minor": 5
}
